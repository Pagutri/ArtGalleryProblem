{
 "cells": [
  {
   "cell_type": "code",
   "execution_count": 3,
   "id": "2df8abff",
   "metadata": {},
   "outputs": [],
   "source": [
    "from random import random, seed\n",
    "from Point import Point\n",
    "import numpy as np\n",
    "import matplotlib.pyplot as plt"
   ]
  },
  {
   "cell_type": "code",
   "execution_count": 2,
   "id": "bb78c648",
   "metadata": {},
   "outputs": [],
   "source": [
    "seed()"
   ]
  },
  {
   "cell_type": "code",
   "execution_count": 4,
   "id": "de3f3980",
   "metadata": {},
   "outputs": [],
   "source": [
    "def crear_poligono(n):\n",
    "    \"\"\"Crea polígono aleatorio de 'n' vértices.\"\"\"\n",
    "    angulo = 2.0 * np.pi / n\n",
    "    lista_x = []\n",
    "    lista_y = []\n",
    "    x = random() * 100\n",
    "    y = random() * 100\n",
    "    lista_x.append(x)\n",
    "    lista_y.append(y)\n",
    "    "
   ]
  },
  {
   "cell_type": "code",
   "execution_count": null,
   "id": "2b832e90",
   "metadata": {},
   "outputs": [],
   "source": []
  }
 ],
 "metadata": {
  "kernelspec": {
   "display_name": "Python 3 (ipykernel)",
   "language": "python",
   "name": "python3"
  },
  "language_info": {
   "codemirror_mode": {
    "name": "ipython",
    "version": 3
   },
   "file_extension": ".py",
   "mimetype": "text/x-python",
   "name": "python",
   "nbconvert_exporter": "python",
   "pygments_lexer": "ipython3",
   "version": "3.10.6"
  }
 },
 "nbformat": 4,
 "nbformat_minor": 5
}
